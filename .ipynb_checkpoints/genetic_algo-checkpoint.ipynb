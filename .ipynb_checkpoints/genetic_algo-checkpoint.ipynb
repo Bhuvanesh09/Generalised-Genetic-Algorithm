{
 "cells": [
  {
   "cell_type": "code",
   "execution_count": 1,
   "metadata": {},
   "outputs": [
    {
     "data": {
      "text/plain": [
       "'  \\nGenetic Algorithm\\n=================\\nClass to implement Genetic Algorithm having functions to mutate and breed.\\n\\nAuthored by Bhuvanesh Sridharan\\nDate: 21/3/20\\n'"
      ]
     },
     "execution_count": 1,
     "metadata": {},
     "output_type": "execute_result"
    }
   ],
   "source": [
    "\"\"\"  \n",
    "Genetic Algorithm\n",
    "=================\n",
    "Class to implement Genetic Algorithm having functions to mutate and breed.\n",
    "\n",
    "Authored by Bhuvanesh Sridharan\n",
    "Date: 21/3/20\n",
    "\"\"\""
   ]
  },
  {
   "cell_type": "code",
   "execution_count": 2,
   "metadata": {
    "scrolled": true
   },
   "outputs": [],
   "source": [
    "import numpy as np\n"
   ]
  },
  {
   "cell_type": "code",
   "execution_count": 20,
   "metadata": {},
   "outputs": [],
   "source": [
    "class GeneticAlgo:\n",
    "    \"\"\"  \n",
    "    Genetic Algorithm\n",
    "    =================\n",
    "    Class to implement Genetic Algorithm having functions to mutate and breed.\n",
    "    \n",
    "    Arguments:\n",
    "    param_range : tuple\n",
    "    num_params : int\n",
    "    pop_size : int\n",
    "    num_gen : int\n",
    "    fitnessFunc : function with populating as input which return fitness for all chromosomes\n",
    "    \n",
    "    Authored by Bhuvanesh Sridharan\n",
    "    Date: 21/3/20\n",
    "    \"\"\"\n",
    "    \n",
    "    def __init__(self, param_range, num_params, pop_size, mutation_prob, fitnessFunc):\n",
    "        self.param_range = param_range\n",
    "        self.num_params = num_params\n",
    "        self.pop_size = pop_size\n",
    "        self.mutation_prob = mutation_prob\n",
    "        self.population = None\n",
    "        self.fitnessFunc = fitnessFunc\n",
    "    \n",
    "    def calc_fitness(self, pop):\n",
    "        \"\"\"\n",
    "        Function to calculate the fitness of the population given as the argument\n",
    "        \"\"\"\n",
    "\n",
    "        fitness = self.fitnessFunc(pop)\n",
    "        return fitness\n",
    "    \n",
    "    def rank_selection(self, pop, fitness, num_select):\n",
    "        \"\"\"\n",
    "        select top num_select number of chromosomes from the population\n",
    "        \"\"\"\n",
    "        sorted_pop = pop[fitness.argsort()]\n",
    "        selected_pop = sorted_pop[-num_select:, ...]\n",
    "        #print(\"Returning the following population as selected: \")\n",
    "        #print(selected_pop)\n",
    "        return selected_pop\n",
    "    \n",
    "    def breed_parents(self, alpha, p1, p2):\n",
    "        \"\"\"\n",
    "        crosses over two chromosomes of p1 and p2 by Whole Arithmetic Combination method\n",
    "        \n",
    "        Returns:\n",
    "        Two chromosomes c1 and c2\n",
    "        \"\"\"\n",
    "        c1 = alpha*p1 + (1-alpha)*p2\n",
    "        c2 = alpha*p2 + (1-alpha)*p1\n",
    "        \n",
    "        return np.array([c1, c2])\n",
    "        \n",
    "    def mutate(self, pop, prob, mag):\n",
    "        \"\"\"\n",
    "        mutates the population by magnitude mag with probability = prob\n",
    "        \n",
    "        returns:\n",
    "        Mutated Population\n",
    "        \"\"\"\n",
    "        for i in range(len(pop)):\n",
    "            if np.random.random() < prob:\n",
    "                pop[i] = pop[i] + mag * np.random.uniform(-1,1,pop[i].shape)\n",
    "                for j in range(len(pop[i])):\n",
    "                    if pop[i][j] > self.param_range[1]:\n",
    "                        pop[i][j] = self.param_range[1]\n",
    "                    if pop[i][j] < self.param_range[0]:\n",
    "                        pop[i][j] = self.param_range[0]\n",
    "        return pop\n",
    "    \n",
    "    def init_population(self, seed = None):\n",
    "        \"\"\"\n",
    "        Initialises the population with seed if applicable or starts with a random population\n",
    "        \"\"\"\n",
    "        if seed :\n",
    "            pop = np.repeat([seed], self.pop_size, axis = 0)\n",
    "            pop = self.mutate(pop, 1, 1)\n",
    "            self.population = pop\n",
    "        else :\n",
    "            self.population = np.random.uniform(self.param_range[0],self.param_range[1], size = (self.pop_size, self.num_params))\n",
    "    \n",
    "    def evolve_gen(self):\n",
    "        \"\"\"\n",
    "        evolves one generation of the population\n",
    "            1. Breeds the population\n",
    "            2. takes top half of the population\n",
    "        \"\"\"\n",
    "        pop = self.population\n",
    "        new_pop = np.zeros(shape=pop.shape)\n",
    "        parent_ind = np.arange(self.pop_size)\n",
    "        np.random.shuffle(parent_ind)\n",
    "        \n",
    "        for i in range(0, parent_ind.size, 2):\n",
    "            pop = np.concatenate((pop, self.breed_parents(0.3, pop[i], pop[i+1])))\n",
    "            \n",
    "        self.mutate(pop, self.mutation_prob, 1)\n",
    "        \n",
    "        fitness = self.calc_fitness(pop)\n",
    "        self.population = self.rank_selection(pop, fitness, self.pop_size)"
   ]
  },
  {
   "cell_type": "markdown",
   "metadata": {},
   "source": [
    "The below functions are to test the GA Algorithm written above:"
   ]
  },
  {
   "cell_type": "code",
   "execution_count": 21,
   "metadata": {},
   "outputs": [],
   "source": [
    "def tempfunc(pop):\n",
    "    x = np.array([1, -1, 0])\n",
    "    fitness = np.sum(pop * x, axis = 1)\n",
    "    return fitness"
   ]
  },
  {
   "cell_type": "code",
   "execution_count": 22,
   "metadata": {},
   "outputs": [],
   "source": [
    "def testGA():\n",
    "    ga = GeneticAlgo((-10,10), 3, 100, 6, tempfunc)\n",
    "    ga.init_population()\n",
    "    for i in range(10):\n",
    "        ga.evolve_gen()\n",
    "    print(ga.rank_selection(ga.population, ga.calc_fitness(ga.population), 1))"
   ]
  }
 ],
 "metadata": {
  "kernelspec": {
   "display_name": "Python 3",
   "language": "python",
   "name": "python3"
  },
  "language_info": {
   "codemirror_mode": {
    "name": "ipython",
    "version": 3
   },
   "file_extension": ".py",
   "mimetype": "text/x-python",
   "name": "python",
   "nbconvert_exporter": "python",
   "pygments_lexer": "ipython3",
   "version": "3.7.6"
  }
 },
 "nbformat": 4,
 "nbformat_minor": 4
}
