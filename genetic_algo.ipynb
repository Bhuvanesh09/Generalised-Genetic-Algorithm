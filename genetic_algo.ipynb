{
 "cells": [
  {
   "cell_type": "code",
   "execution_count": 16,
   "metadata": {},
   "outputs": [
    {
     "data": {
      "text/plain": [
       "'  \\nGenetic Algorithm\\n=================\\nClass to implement Genetic Algorithm having functions to mutate and breed.\\n\\nAuthored by Bhuvanesh Sridharan\\nDate: 21/3/20\\n'"
      ]
     },
     "execution_count": 16,
     "metadata": {},
     "output_type": "execute_result"
    }
   ],
   "source": [
    "\"\"\"  \n",
    "Genetic Algorithm\n",
    "=================\n",
    "Class to implement Genetic Algorithm having functions to mutate and breed.\n",
    "\n",
    "Authored by Bhuvanesh Sridharan\n",
    "Date: 21/3/20\n",
    "\"\"\""
   ]
  },
  {
   "cell_type": "code",
   "execution_count": 17,
   "metadata": {
    "scrolled": true
   },
   "outputs": [],
   "source": [
    "import numpy as np\n"
   ]
  },
  {
   "cell_type": "code",
   "execution_count": 33,
   "metadata": {},
   "outputs": [],
   "source": [
    "class GeneticAlgo:\n",
    "    \"\"\"  \n",
    "    Genetic Algorithm\n",
    "    =================\n",
    "    Class to implement Genetic Algorithm having functions to mutate and breed.\n",
    "\n",
    "    Authored by Bhuvanesh Sridharan\n",
    "    Date: 21/3/20\n",
    "    \"\"\"\n",
    "    \n",
    "    def __init__(self, param_range, num_params, pop_size, num_gen):\n",
    "        self.param_range = param_range\n",
    "        self.num_params = num_params\n",
    "        self.pop_size = pop_size\n",
    "        self.num_gen = num_gen\n",
    "        self.population = None\n",
    "    \n",
    "    def calc_fitness(self, pop):\n",
    "        \"\"\"\n",
    "        Function to calculate the fitness of the population given as the argument\n",
    "        \"\"\"\n",
    "        x = np.array([1, -1, 0])\n",
    "\n",
    "        fitness = np.sum(pop * x, axis = 1)\n",
    "        return fitness\n",
    "    \n",
    "    def rank_selection(self, pop, fitness, num_select):\n",
    "        \"\"\"\n",
    "        select top num_select number of chromosomes from the population\n",
    "        \"\"\"\n",
    "        sorted_pop = pop[fitness.argsort()]\n",
    "        selected_pop = sorted_pop[-num_select:, ...]\n",
    "        #print(\"Returning the following population as selected: \")\n",
    "        #print(selected_pop)\n",
    "        return selected_pop\n",
    "    \n",
    "    def breed_parents(self, alpha, p1, p2):\n",
    "        \"\"\"\n",
    "        crosses over two chromosomes of p1 and p2 by Whole Arithmetic Combination method\n",
    "        \n",
    "        Returns:\n",
    "        Two chromosomes c1 and c2\n",
    "        \"\"\"\n",
    "        c1 = alpha*p1 + (1-alpha)*p2\n",
    "        c2 = alpha*p2 + (1-alpha)*p1\n",
    "        \n",
    "        return np.array([c1, c2])\n",
    "        \n",
    "    def mutate(self, pop, prob, mag):\n",
    "        \"\"\"\n",
    "        mutates the population by magnitude mag with probability = prob\n",
    "        \n",
    "        returns:\n",
    "        Mutated Population\n",
    "        \"\"\"\n",
    "        for i in range(len(pop)):\n",
    "            if np.random.random() < prob:\n",
    "                pop[i] = pop[i] + mag * np.random.uniform(-1,1,pop[i].shape)\n",
    "                for j in range(len(pop[i])):\n",
    "                    if pop[i][j] > self.param_range[1]:\n",
    "                        pop[i][j] = self.param_range[1]\n",
    "                    if pop[i][j] < self.param_range[0]:\n",
    "                        pop[i][j] = self.param_range[0]\n",
    "        return pop\n",
    "    \n",
    "    def init_population(self, seed = None):\n",
    "        \"\"\"\n",
    "        Initialises the population with seed if applicable or starts with a random population\n",
    "        \"\"\"\n",
    "        if seed :\n",
    "            pop = np.repeat([seed], self.pop_size, axis = 0)\n",
    "            pop = self.mutate(pop, 1, 1)\n",
    "            self.population = pop\n",
    "        else :\n",
    "            self.population = np.random.uniform(self.param_range[0],self.param_range[1], size = (self.pop_size, self.num_params))\n",
    "    \n",
    "    def evolve_gen(self):\n",
    "        \"\"\"\n",
    "        evolves one generation of the population\n",
    "            1. Breeds the population\n",
    "            2. takes top half of the population\n",
    "        \"\"\"\n",
    "        pop = self.population\n",
    "        new_pop = np.zeros(shape=pop.shape)\n",
    "        parent_ind = np.arange(self.pop_size)\n",
    "        np.random.shuffle(parent_ind)\n",
    "        \n",
    "        for i in range(0, parent_ind.size, 2):\n",
    "            pop = np.concatenate((pop, self.breed_parents(0.3, pop[i], pop[i+1])))\n",
    "            \n",
    "        self.mutate(pop, 0.3, 1)\n",
    "        \n",
    "        fitness = self.calc_fitness(pop)\n",
    "        self.population = self.rank_selection(pop, fitness, self.pop_size)"
   ]
  },
  {
   "cell_type": "code",
   "execution_count": 34,
   "metadata": {},
   "outputs": [],
   "source": [
    "ga = GeneticAlgo((-10,10), 3, 100, 6)\n"
   ]
  },
  {
   "cell_type": "code",
   "execution_count": 35,
   "metadata": {},
   "outputs": [],
   "source": [
    "ga.init_population()"
   ]
  },
  {
   "cell_type": "code",
   "execution_count": 38,
   "metadata": {},
   "outputs": [],
   "source": [
    "for i in range(100):\n",
    "    ga.evolve_gen()"
   ]
  },
  {
   "cell_type": "code",
   "execution_count": 39,
   "metadata": {},
   "outputs": [
    {
     "data": {
      "text/plain": [
       "array([[ 10.        , -10.        ,   1.37497626]])"
      ]
     },
     "execution_count": 39,
     "metadata": {},
     "output_type": "execute_result"
    }
   ],
   "source": [
    "ga.rank_selection(ga.population, ga.calc_fitness(ga.population), 1)"
   ]
  },
  {
   "cell_type": "code",
   "execution_count": null,
   "metadata": {},
   "outputs": [],
   "source": []
  }
 ],
 "metadata": {
  "kernelspec": {
   "display_name": "Python 3",
   "language": "python",
   "name": "python3"
  },
  "language_info": {
   "codemirror_mode": {
    "name": "ipython",
    "version": 3
   },
   "file_extension": ".py",
   "mimetype": "text/x-python",
   "name": "python",
   "nbconvert_exporter": "python",
   "pygments_lexer": "ipython3",
   "version": "3.7.6"
  }
 },
 "nbformat": 4,
 "nbformat_minor": 4
}
