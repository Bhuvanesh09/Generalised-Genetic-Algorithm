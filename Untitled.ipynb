{
 "cells": [
  {
   "cell_type": "code",
   "execution_count": 1,
   "metadata": {},
   "outputs": [],
   "source": [
    "from genetic_algo import GeneticAlgo\n",
    "from geterr import *"
   ]
  },
  {
   "cell_type": "code",
   "execution_count": 6,
   "metadata": {},
   "outputs": [],
   "source": [
    "def tempfunc(pop):\n",
    "    x = np.array([1, -1, 0])\n",
    "    fitness = np.sum(pop * x, axis = 1)\n",
    "    return fitness"
   ]
  },
  {
   "cell_type": "code",
   "execution_count": 9,
   "metadata": {},
   "outputs": [
    {
     "name": "stdout",
     "output_type": "stream",
     "text": [
      "[[ 10.        -10.          5.8051325]]\n"
     ]
    }
   ],
   "source": [
    "ga = GeneticAlgo((-10,10), 3, 100, 6, tempfunc)\n",
    "ga.init_population([5,5,5])\n",
    "for i in range(100):\n",
    "    ga.evolve_gen()\n",
    "print(ga.rank_selection(ga.population, ga.calc_fitness(ga.population), 1))"
   ]
  },
  {
   "cell_type": "code",
   "execution_count": null,
   "metadata": {},
   "outputs": [],
   "source": []
  }
 ],
 "metadata": {
  "kernelspec": {
   "display_name": "Python 3",
   "language": "python",
   "name": "python3"
  },
  "language_info": {
   "codemirror_mode": {
    "name": "ipython",
    "version": 3
   },
   "file_extension": ".py",
   "mimetype": "text/x-python",
   "name": "python",
   "nbconvert_exporter": "python",
   "pygments_lexer": "ipython3",
   "version": "3.7.6"
  }
 },
 "nbformat": 4,
 "nbformat_minor": 4
}
